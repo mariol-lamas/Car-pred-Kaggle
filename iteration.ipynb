{
 "cells": [
  {
   "cell_type": "code",
   "execution_count": 1,
   "metadata": {},
   "outputs": [],
   "source": [
    "import pandas as pd \n",
    "import re\n",
    "import seaborn as sns \n",
    "import numpy as np \n",
    "import matplotlib.pyplot as plt \n",
    "from sklearn.model_selection import train_test_split\n",
    "from sklearn.impute import SimpleImputer\n",
    "from sklearn.metrics import mean_squared_error\n",
    "from sklearn.metrics import mean_absolute_error\n",
    "from xgboost import XGBRegressor\n",
    "from catboost import CatBoostRegressor\n",
    "from sklearn.model_selection import RandomizedSearchCV,GridSearchCV\n",
    "from sklearn.preprocessing import StandardScaler"
   ]
  },
  {
   "cell_type": "code",
   "execution_count": 22,
   "metadata": {},
   "outputs": [],
   "source": [
    "#Obtencion de los datos\n",
    "data_train=pd.read_csv('./Data/train.csv')\n",
    "data_test=pd.read_csv('./Data/test.csv')\n",
    "ids_test=data_test.Id\n",
    "\n",
    "data_test=data_test.drop(['Id'],axis=1)\n",
    "X=data_train.copy()"
   ]
  },
  {
   "cell_type": "code",
   "execution_count": 23,
   "metadata": {},
   "outputs": [],
   "source": [
    "#Procesamiento\n",
    "# Todo a km\n",
    "X['running']=X['running'].apply(lambda x: float(x.split(' ')[0]) * 1.60934 if x.split(' ')[2]=='miles' else float(x.split(' ')[0]))\n",
    "data_test['running']=data_test['running'].apply(lambda x: float(x.split(' ')[0]) * 1.60934 if x.split(' ')[2]=='miles' else float(x.split(' ')[0]))\n",
    "\n",
    "#Sustituir status por la mediana de su categoria\n",
    "meds={s :X[X['status']==s]['price'].median() for s in X['status'].unique()}\n",
    "\n",
    "X['status']=X['status'].map(meds)\n",
    "data_test['status']=data_test['status'].map(meds)"
   ]
  },
  {
   "cell_type": "code",
   "execution_count": 24,
   "metadata": {},
   "outputs": [],
   "source": [
    "#Definimos X e y\n",
    "y=X['price']\n",
    "X=X.drop('price',axis=1)"
   ]
  },
  {
   "cell_type": "code",
   "execution_count": 25,
   "metadata": {},
   "outputs": [],
   "source": [
    "#Escalado de los datos\n",
    "num_cols=X.select_dtypes(include='number').columns\n",
    "scaler=StandardScaler()\n",
    "X[num_cols]=scaler.fit_transform(X[num_cols])\n",
    "data_test[num_cols]=scaler.transform(data_test[num_cols])\n"
   ]
  },
  {
   "cell_type": "code",
   "execution_count": 26,
   "metadata": {},
   "outputs": [],
   "source": [
    "#Encoding de las variables categoricas\n",
    "X=pd.get_dummies(X.drop('color',axis=1)).astype(float)\n",
    "data_test=pd.get_dummies(data_test.drop('color',axis=1)).astype(float)\n",
    "\n",
    "X, data_test = X.align(data_test, join='left', axis=1)\n",
    "data_test = pd.get_dummies(data_test)\n",
    "X, X_tdata_testest = X.align(data_test, join='left', axis=1)"
   ]
  },
  {
   "cell_type": "code",
   "execution_count": 27,
   "metadata": {},
   "outputs": [],
   "source": [
    "#Split en Train y Test\n",
    "X_train_full, X_valid_full, y_train, y_valid = train_test_split(X, y, test_size=0.2,random_state=40)"
   ]
  },
  {
   "cell_type": "code",
   "execution_count": 28,
   "metadata": {},
   "outputs": [
    {
     "name": "stdout",
     "output_type": "stream",
     "text": [
      "Fitting 10 folds for each of 10 candidates, totalling 100 fits\n",
      "{'learning_rate': 0.05, 'l2_leaf_reg': 5, 'iterations': 200, 'depth': 6}\n"
     ]
    }
   ],
   "source": [
    "#CatBoost con Fine Tunning\n",
    "#Prueba 2- Fine Tunning\n",
    "param_grid_gb = {\n",
    "    'iterations': [50, 100, 200],\n",
    "    'learning_rate': [0.01,0.05, 0.1],\n",
    "    'depth': [4, 6, 8],\n",
    "    'l2_leaf_reg': [ 3, 5, 7],\n",
    "}\n",
    "\n",
    "grid_gb = RandomizedSearchCV(\n",
    "    estimator = CatBoostRegressor(loss_function='MAE', silent = True,random_state=0) ,\n",
    "    param_distributions = param_grid_gb,\n",
    "    scoring = 'neg_mean_absolute_error',\n",
    "    n_jobs = 4,\n",
    "    verbose=True, \n",
    "    cv = 10,\n",
    "     )\n",
    "grid_gb.fit(X_train_full,y_train)\n",
    "print(grid_gb.best_params_)"
   ]
  },
  {
   "cell_type": "code",
   "execution_count": 29,
   "metadata": {},
   "outputs": [
    {
     "name": "stdout",
     "output_type": "stream",
     "text": [
      "Test Error: 1927.7258733164847\n",
      "Train Error: 1642.4103081654873\n"
     ]
    }
   ],
   "source": [
    "#Evaluacion de resultados\n",
    "# Calculate MAE\n",
    "mae_1 = mean_absolute_error(grid_gb.predict(X_valid_full), y_valid)\n",
    "print(\"Test Error:\" , mae_1)\n",
    "mae_1 = mean_absolute_error(grid_gb.predict(X_train_full), y_train)\n",
    "print(\"Train Error:\" , mae_1)"
   ]
  },
  {
   "cell_type": "code",
   "execution_count": 30,
   "metadata": {},
   "outputs": [],
   "source": [
    "preds=grid_gb.predict(data_test)\n",
    "output = pd.DataFrame({'Id': ids_test,\n",
    "                        'Predicted_Price': preds})\n",
    "output.to_csv('submission.csv', index=False)"
   ]
  },
  {
   "cell_type": "code",
   "execution_count": null,
   "metadata": {},
   "outputs": [],
   "source": []
  }
 ],
 "metadata": {
  "kernelspec": {
   "display_name": "base",
   "language": "python",
   "name": "python3"
  },
  "language_info": {
   "codemirror_mode": {
    "name": "ipython",
    "version": 3
   },
   "file_extension": ".py",
   "mimetype": "text/x-python",
   "name": "python",
   "nbconvert_exporter": "python",
   "pygments_lexer": "ipython3",
   "version": "3.11.5"
  }
 },
 "nbformat": 4,
 "nbformat_minor": 2
}
