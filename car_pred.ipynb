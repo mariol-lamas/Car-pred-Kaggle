{
 "cells": [
  {
   "cell_type": "code",
   "execution_count": 96,
   "metadata": {},
   "outputs": [],
   "source": [
    "import pandas as pd \n",
    "import re\n",
    "import seaborn as sns \n",
    "import numpy as np \n",
    "import matplotlib.pyplot as plt \n",
    "from sklearn.model_selection import train_test_split\n",
    "from sklearn.impute import SimpleImputer\n",
    "from sklearn.metrics import mean_squared_error\n",
    "from sklearn.metrics import mean_absolute_error\n",
    "from xgboost import XGBRegressor\n",
    "from catboost import CatBoostRegressor\n",
    "from sklearn.model_selection import RandomizedSearchCV,GridSearchCV\n",
    "from sklearn.preprocessing import StandardScaler"
   ]
  },
  {
   "cell_type": "code",
   "execution_count": 141,
   "metadata": {},
   "outputs": [],
   "source": [
    "data_train=pd.read_csv('./Data/train.csv')\n",
    "data_test=pd.read_csv('./Data/test.csv')\n",
    "ids_test=data_test.Id"
   ]
  },
  {
   "cell_type": "code",
   "execution_count": 142,
   "metadata": {},
   "outputs": [],
   "source": [
    "data_test=data_test.drop(['Id'],axis=1)"
   ]
  },
  {
   "cell_type": "code",
   "execution_count": 143,
   "metadata": {},
   "outputs": [],
   "source": [
    "X=data_train.copy()"
   ]
  },
  {
   "cell_type": "code",
   "execution_count": 144,
   "metadata": {},
   "outputs": [],
   "source": [
    "#X=X.drop('wheel',axis=1)"
   ]
  },
  {
   "cell_type": "code",
   "execution_count": 145,
   "metadata": {},
   "outputs": [],
   "source": [
    "#Procesamiento\n",
    "# Todo a km\n",
    "X['running']=X['running'].apply(lambda x: float(x.split(' ')[0]) * 1.60934 if x.split(' ')[2]=='miles' else float(x.split(' ')[0]))\n",
    "data_test['running']=data_test['running'].apply(lambda x: float(x.split(' ')[0]) * 1.60934 if x.split(' ')[2]=='miles' else float(x.split(' ')[0]))\n",
    "\n",
    "#Sustituir status por la mediana de su categoria\n",
    "meds={s :X[X['status']==s]['price'].median() for s in X['status'].unique()}\n",
    "\n",
    "X['status']=X['status'].map(meds)\n",
    "data_test['status']=data_test['status'].map(meds)\n",
    "\n",
    "#X['running_per_motor']=X['running'] / X['motor_volume']\n",
    "#data_test['running_per_motor']=data_test['running'] / data_test['motor_volume']\n",
    "\n",
    "#X['running_per_year']=X['running'] / (2024-X['year'])\n",
    "#data_test['running_per_year']=data_test['running'] / (2024-data_test['year'])\n",
    "#X.loc[:, 'price'] = np.log1p(X.price)\n",
    "#X.loc[:, 'running'] = np.log1p(X.running)\n",
    "\n",
    "y=X['price']\n",
    "X=X.drop('price',axis=1)\n"
   ]
  },
  {
   "cell_type": "code",
   "execution_count": 146,
   "metadata": {},
   "outputs": [],
   "source": [
    "\n",
    "num_cols=X.select_dtypes(include='number').columns\n",
    "scaler=StandardScaler()\n",
    "X[num_cols]=scaler.fit_transform(X[num_cols])\n",
    "data_test[num_cols]=scaler.transform(data_test[num_cols])\n"
   ]
  },
  {
   "cell_type": "code",
   "execution_count": 147,
   "metadata": {},
   "outputs": [],
   "source": [
    "X=pd.get_dummies(X.drop('color',axis=1)).astype(float)\n",
    "data_test=pd.get_dummies(data_test.drop('color',axis=1)).astype(float)\n",
    "\n",
    "\n",
    "\n",
    "X, data_test = X.align(data_test, join='left', axis=1)\n",
    "data_test = pd.get_dummies(data_test)\n",
    "X, X_tdata_testest = X.align(data_test, join='left', axis=1)\n",
    "\n"
   ]
  },
  {
   "cell_type": "code",
   "execution_count": 148,
   "metadata": {},
   "outputs": [],
   "source": [
    "X_train_full, X_valid_full, y_train, y_valid = train_test_split(X, y, test_size=0.2,random_state=40)"
   ]
  },
  {
   "cell_type": "code",
   "execution_count": 149,
   "metadata": {},
   "outputs": [
    {
     "name": "stdout",
     "output_type": "stream",
     "text": [
      "Mean Absolute Error: 1979.3097906898988\n"
     ]
    },
    {
     "data": {
      "text/plain": [
       "1385.2678995508181"
      ]
     },
     "execution_count": 149,
     "metadata": {},
     "output_type": "execute_result"
    }
   ],
   "source": [
    "my_model_1 = CatBoostRegressor(loss_function='MAE',random_state=0,silent=True)\n",
    "\n",
    "# Fit the model\n",
    "\n",
    "my_model_1.fit(X_train_full, y_train)\n",
    "\n",
    "predictions_1 = my_model_1.predict(X_valid_full)\n",
    "\n",
    "# Calculate MAE\n",
    "mae_1 = mean_absolute_error(predictions_1, y_valid)\n",
    "\n",
    "#Uncomment to print MAE\n",
    "print(\"Mean Absolute Error:\" , mae_1)\n",
    "mean_absolute_error(my_model_1.predict(X_train_full), y_train)"
   ]
  },
  {
   "cell_type": "code",
   "execution_count": 150,
   "metadata": {},
   "outputs": [
    {
     "name": "stdout",
     "output_type": "stream",
     "text": [
      "Fitting 10 folds for each of 10 candidates, totalling 100 fits\n",
      "{'learning_rate': 0.05, 'l2_leaf_reg': 7, 'iterations': 200, 'depth': 8}\n"
     ]
    }
   ],
   "source": [
    "#Prueba 2- Fine Tunning\n",
    "param_grid_gb = {\n",
    "    'iterations': [50, 100, 200],\n",
    "    'learning_rate': [0.01,0.05, 0.1],\n",
    "    'depth': [4, 6, 8],\n",
    "    'l2_leaf_reg': [ 3, 5, 7],\n",
    "}\n",
    "\n",
    "grid_gb = RandomizedSearchCV(\n",
    "    estimator = CatBoostRegressor(loss_function='MAE', silent = True,random_state=0) ,\n",
    "    param_distributions = param_grid_gb,\n",
    "    scoring = 'neg_mean_absolute_error',\n",
    "    n_jobs = 4,\n",
    "    verbose=True, \n",
    "    cv = 10,\n",
    "     )\n",
    "grid_gb.fit(X_train_full,y_train)\n",
    "print(grid_gb.best_params_)\n"
   ]
  },
  {
   "cell_type": "code",
   "execution_count": 151,
   "metadata": {},
   "outputs": [
    {
     "name": "stdout",
     "output_type": "stream",
     "text": [
      "Mean Absolute Error: 1948.5965990498153\n",
      "Train Error: 1503.332197420045\n"
     ]
    }
   ],
   "source": [
    "# Calculate MAE\n",
    "mae_1 = mean_absolute_error(grid_gb.predict(X_valid_full), y_valid)\n",
    "\n",
    "#Uncomment to print MAE\n",
    "print(\"Mean Absolute Error:\" , mae_1)\n",
    "\n",
    "mae_1 = mean_absolute_error(grid_gb.predict(X_train_full), y_train)\n",
    "\n",
    "#Uncomment to print MAE\n",
    "print(\"Train Error:\" , mae_1)"
   ]
  },
  {
   "cell_type": "code",
   "execution_count": 152,
   "metadata": {},
   "outputs": [],
   "source": [
    "preds=grid_gb.predict(data_test)\n",
    "output = pd.DataFrame({'Id': ids_test,\n",
    "                        'Predicted_Price': preds})\n",
    "output.to_csv('submission.csv', index=False)"
   ]
  },
  {
   "cell_type": "code",
   "execution_count": 132,
   "metadata": {},
   "outputs": [
    {
     "data": {
      "text/html": [
       "<div>\n",
       "<style scoped>\n",
       "    .dataframe tbody tr th:only-of-type {\n",
       "        vertical-align: middle;\n",
       "    }\n",
       "\n",
       "    .dataframe tbody tr th {\n",
       "        vertical-align: top;\n",
       "    }\n",
       "\n",
       "    .dataframe thead th {\n",
       "        text-align: right;\n",
       "    }\n",
       "</style>\n",
       "<table border=\"1\" class=\"dataframe\">\n",
       "  <thead>\n",
       "    <tr style=\"text-align: right;\">\n",
       "      <th></th>\n",
       "      <th>Modelo</th>\n",
       "      <th>MAE TRAIN</th>\n",
       "      <th>MAE TEST</th>\n",
       "      <th>MAE PUBLICO</th>\n",
       "    </tr>\n",
       "  </thead>\n",
       "  <tbody>\n",
       "    <tr>\n",
       "      <th>0</th>\n",
       "      <td>Catboost sin color usando medianas para sustit...</td>\n",
       "      <td>1385.27</td>\n",
       "      <td>1979.31</td>\n",
       "      <td>1834.16</td>\n",
       "    </tr>\n",
       "    <tr>\n",
       "      <th>1</th>\n",
       "      <td>Como el anterior con HY.TUN</td>\n",
       "      <td>1947.00</td>\n",
       "      <td>1932.00</td>\n",
       "      <td>1812.20</td>\n",
       "    </tr>\n",
       "    <tr>\n",
       "      <th>2</th>\n",
       "      <td>FE KM/YEAR</td>\n",
       "      <td>1944.00</td>\n",
       "      <td>1927.00</td>\n",
       "      <td>1861.00</td>\n",
       "    </tr>\n",
       "  </tbody>\n",
       "</table>\n",
       "</div>"
      ],
      "text/plain": [
       "                                              Modelo  MAE TRAIN  MAE TEST  \\\n",
       "0  Catboost sin color usando medianas para sustit...    1385.27   1979.31   \n",
       "1                        Como el anterior con HY.TUN    1947.00   1932.00   \n",
       "2                                         FE KM/YEAR    1944.00   1927.00   \n",
       "\n",
       "   MAE PUBLICO  \n",
       "0      1834.16  \n",
       "1      1812.20  \n",
       "2      1861.00  "
      ]
     },
     "execution_count": 132,
     "metadata": {},
     "output_type": "execute_result"
    }
   ],
   "source": [
    "#Resultados obtenidos\n",
    "mod=['Catboost sin color usando medianas para sustituir status','Como el anterior con HY.TUN','FE KM/YEAR','status en dummy','haciendo medianas con type']\n",
    "train=[1385.27,1947,1944,1930]\n",
    "test=[1979.31,1932,1927,1983]\n",
    "externa=[1834.16,1812.2,1861]\n",
    "\n",
    "data=pd.DataFrame(zip(mod,train,test,externa),columns=['Modelo','MAE TRAIN','MAE TEST','MAE PUBLICO'])\n",
    "data.head()"
   ]
  },
  {
   "cell_type": "code",
   "execution_count": null,
   "metadata": {},
   "outputs": [],
   "source": []
  }
 ],
 "metadata": {
  "kernelspec": {
   "display_name": "base",
   "language": "python",
   "name": "python3"
  },
  "language_info": {
   "codemirror_mode": {
    "name": "ipython",
    "version": 3
   },
   "file_extension": ".py",
   "mimetype": "text/x-python",
   "name": "python",
   "nbconvert_exporter": "python",
   "pygments_lexer": "ipython3",
   "version": "3.11.5"
  }
 },
 "nbformat": 4,
 "nbformat_minor": 2
}
