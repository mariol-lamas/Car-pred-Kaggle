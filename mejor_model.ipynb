{
 "cells": [
  {
   "cell_type": "code",
   "execution_count": 11,
   "metadata": {},
   "outputs": [
    {
     "name": "stdout",
     "output_type": "stream",
     "text": [
      "Mean Absolute Error: 1963.1008954353554\n",
      "Train error: 1640.1232040061116\n"
     ]
    }
   ],
   "source": [
    "import pandas as pd \n",
    "import re\n",
    "import seaborn as sns \n",
    "import numpy as np \n",
    "import matplotlib.pyplot as plt \n",
    "from sklearn.model_selection import train_test_split\n",
    "from sklearn.impute import SimpleImputer\n",
    "from sklearn.metrics import mean_squared_error\n",
    "from sklearn.metrics import mean_absolute_error\n",
    "from xgboost import XGBRegressor\n",
    "from catboost import CatBoostRegressor\n",
    "from sklearn.model_selection import RandomizedSearchCV,GridSearchCV\n",
    "from sklearn.preprocessing import StandardScaler\n",
    "\n",
    "\n",
    "data_train=pd.read_csv('./Data/train.csv')\n",
    "data_test=pd.read_csv('./Data/test.csv')\n",
    "ids_test=data_test.Id\n",
    "\n",
    "data_test=data_test.drop('Id',axis=1)\n",
    "X=data_train.copy()\n",
    "\n",
    "#Procesamiento\n",
    "# Todo a km\n",
    "X['running']=X['running'].apply(lambda x: float(x.split(' ')[0]) * 1.60934 if x.split(' ')[2]=='miles' else float(x.split(' ')[0]))\n",
    "data_test['running']=data_test['running'].apply(lambda x: float(x.split(' ')[0]) * 1.60934 if x.split(' ')[2]=='miles' else float(x.split(' ')[0]))\n",
    "\n",
    "#Sustituir status por la mediana de su categoria\n",
    "meds={s :X[X['status']==s]['price'].median() for s in X['status'].unique()}\n",
    "\n",
    "X['status']=X['status'].map(meds)\n",
    "data_test['status']=data_test['status'].map(meds)\n",
    "\n",
    "y=X['price']\n",
    "X=X.drop('price',axis=1)\n",
    "\n",
    "num_cols=X.select_dtypes(include='number').columns\n",
    "scaler=StandardScaler()\n",
    "X[num_cols]=scaler.fit_transform(X[num_cols])\n",
    "data_test[num_cols]=scaler.transform(data_test[num_cols])\n",
    "\n",
    "X=pd.get_dummies(X.drop('color',axis=1)).astype(float)\n",
    "data_test=pd.get_dummies(data_test.drop('color',axis=1)).astype(float)\n",
    "\n",
    "\n",
    "\n",
    "X, data_test = X.align(data_test, join='left', axis=1)\n",
    "data_test = pd.get_dummies(data_test)\n",
    "X, X_tdata_testest = X.align(data_test, join='left', axis=1)\n",
    "\n",
    "\n",
    "\n",
    "\n",
    "X_train_full, X_valid_full, y_train, y_valid = train_test_split(X, y, test_size=0.2,random_state=40)\n",
    "\n",
    "mod=CatBoostRegressor(loss_function='MAE', silent = True,random_state=0,learning_rate= 0.05, l2_leaf_reg= 7, iterations= 200, depth= 6)\n",
    "mod.fit(X_train_full,y_train)\n",
    "\n",
    "\n",
    "# Calculate MAE\n",
    "mae_1 = mean_absolute_error(mod.predict(X_valid_full), y_valid)\n",
    "\n",
    "#Uncomment to print MAE\n",
    "print(\"Mean Absolute Error:\" , mae_1)\n",
    "mae_1 = mean_absolute_error(mod.predict(X_train_full), y_train)\n",
    "print('Train error:',mae_1)"
   ]
  },
  {
   "cell_type": "code",
   "execution_count": 10,
   "metadata": {},
   "outputs": [],
   "source": [
    "\n",
    "preds=mod.predict(data_test)\n",
    "output = pd.DataFrame({'Id': ids_test,\n",
    "                        'Predicted_Price': preds})\n",
    "output.to_csv('submission.csv', index=False)"
   ]
  },
  {
   "cell_type": "code",
   "execution_count": null,
   "metadata": {},
   "outputs": [],
   "source": [
    "#Resultado actual 1835"
   ]
  }
 ],
 "metadata": {
  "kernelspec": {
   "display_name": "base",
   "language": "python",
   "name": "python3"
  },
  "language_info": {
   "codemirror_mode": {
    "name": "ipython",
    "version": 3
   },
   "file_extension": ".py",
   "mimetype": "text/x-python",
   "name": "python",
   "nbconvert_exporter": "python",
   "pygments_lexer": "ipython3",
   "version": "3.11.5"
  }
 },
 "nbformat": 4,
 "nbformat_minor": 2
}
